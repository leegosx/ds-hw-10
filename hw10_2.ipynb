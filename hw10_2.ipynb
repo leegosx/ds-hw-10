{
  "nbformat": 4,
  "nbformat_minor": 0,
  "metadata": {
    "colab": {
      "provenance": [],
      "gpuType": "T4"
    },
    "kernelspec": {
      "name": "python3",
      "display_name": "Python 3"
    },
    "language_info": {
      "name": "python"
    },
    "accelerator": "GPU"
  },
  "cells": [
    {
      "cell_type": "code",
      "execution_count": 112,
      "metadata": {
        "id": "rM24blYug5pT"
      },
      "outputs": [],
      "source": [
        "import numpy as np\n",
        "import tensorflow as tf\n",
        "from tensorflow import keras\n",
        "from keras.datasets import fashion_mnist\n",
        "from keras.applications import VGG16\n",
        "from tensorflow.keras.utils import to_categorical\n",
        "from keras import layers\n",
        "from tensorflow.keras.models import Model\n",
        "(x_train, y_train), (x_test, y_test) = fashion_mnist.load_data()"
      ]
    },
    {
      "cell_type": "code",
      "source": [
        "class_names = ['T-shirt/top', 'Trouser', 'Pullover', 'Dress', 'Coat',\n",
        "               'Sandal', 'Shirt', 'Sneaker', 'Bag', 'Ankle boot']"
      ],
      "metadata": {
        "id": "9UY26Qxmg9Ii"
      },
      "execution_count": 113,
      "outputs": []
    },
    {
      "cell_type": "code",
      "source": [
        "# data normalize\n",
        "x_train = x_train.astype('float32') / 255.0\n",
        "x_test = x_test.astype('float32') / 255.0"
      ],
      "metadata": {
        "id": "nmVlQZV32bbm"
      },
      "execution_count": 114,
      "outputs": []
    },
    {
      "cell_type": "code",
      "source": [
        "# Change the data dimension for VGG16\n",
        "x_train = np.stack([x_train]*3, axis=-1)\n",
        "x_test = np.stack([x_test]*3, axis=-1)"
      ],
      "metadata": {
        "id": "_gkR9Uvy2bol"
      },
      "execution_count": 115,
      "outputs": []
    },
    {
      "cell_type": "code",
      "source": [
        "# Convert labels to categorical format\n",
        "y_train = to_categorical(y_train, 10)\n",
        "y_test = to_categorical(y_test, 10)"
      ],
      "metadata": {
        "id": "kTt3OGuT2bus"
      },
      "execution_count": 116,
      "outputs": []
    },
    {
      "cell_type": "code",
      "source": [
        "resized_x_train = tf.image.resize(x_train, (32,32))\n",
        "resized_x_test = tf.image.resize(x_test, (32,32))\n",
        "\n",
        "resized_x_train.shape, x_train.shape"
      ],
      "metadata": {
        "colab": {
          "base_uri": "https://localhost:8080/"
        },
        "id": "tsxaV4IEg9my",
        "outputId": "3fa1b386-92cf-4f5a-a5c3-23e74897de56"
      },
      "execution_count": 117,
      "outputs": [
        {
          "output_type": "execute_result",
          "data": {
            "text/plain": [
              "(TensorShape([60000, 32, 32, 3]), (60000, 28, 28, 3))"
            ]
          },
          "metadata": {},
          "execution_count": 117
        }
      ]
    },
    {
      "cell_type": "code",
      "source": [
        "# Build VGG16 model\n",
        "def model_VGG16(learning_rate, epochs, batch_size):\n",
        "    base_model = VGG16(\n",
        "        include_top=False,\n",
        "        weights='imagenet',\n",
        "        input_shape=(32, 32, 3),\n",
        "        pooling='avg'\n",
        "    )\n",
        "\n",
        "    # Adding custom layers\n",
        "    x = base_model.output\n",
        "    x = layers.Flatten()(x)\n",
        "    x = layers.Dense(256, activation='relu')(x)\n",
        "    x = layers.Dropout(0.25)(x)\n",
        "    predictions = layers.Dense(10, activation='softmax')(x)\n",
        "\n",
        "    # Creating the final model\n",
        "    model = Model(inputs=base_model.input, outputs=predictions)\n",
        "\n",
        "    # Compilation\n",
        "    model.compile(optimizer='adam',\n",
        "                  loss='categorical_crossentropy',\n",
        "                  metrics=['accuracy'])\n",
        "\n",
        "    # Model training\n",
        "    history = model.fit(\n",
        "        resized_x_train, y_train,\n",
        "        epochs=epochs,\n",
        "        batch_size=batch_size,\n",
        "        validation_split=0.2\n",
        "    )\n",
        "\n",
        "    test_loss, test_accuracy = model.evaluate(resized_x_test, y_test)\n",
        "    print(f'Test Accuracy: {test_accuracy*100:.2f}%')\n",
        "\n",
        "    return model, history"
      ],
      "metadata": {
        "id": "OBX_MIX6hLY5"
      },
      "execution_count": 118,
      "outputs": []
    },
    {
      "cell_type": "code",
      "source": [
        "# Hyperparametrs\n",
        "learning_rate = 0.001\n",
        "epochs = 15\n",
        "batch_size = 200"
      ],
      "metadata": {
        "id": "eVH8fhzX2Ng_"
      },
      "execution_count": 119,
      "outputs": []
    },
    {
      "cell_type": "code",
      "source": [],
      "metadata": {
        "id": "VrBX7tfcGsh7"
      },
      "execution_count": null,
      "outputs": []
    },
    {
      "cell_type": "code",
      "source": [
        "# Train model\n",
        "model, history_v2 = model_VGG16(learning_rate, epochs, batch_size)"
      ],
      "metadata": {
        "colab": {
          "base_uri": "https://localhost:8080/"
        },
        "id": "JNWYYDpI2PhT",
        "outputId": "48a57913-57b9-46eb-b827-f372a45092db"
      },
      "execution_count": 120,
      "outputs": [
        {
          "output_type": "stream",
          "name": "stdout",
          "text": [
            "Epoch 1/15\n",
            "240/240 [==============================] - 26s 90ms/step - loss: 1.1644 - accuracy: 0.5317 - val_loss: 0.6280 - val_accuracy: 0.7690\n",
            "Epoch 2/15\n",
            "240/240 [==============================] - 20s 85ms/step - loss: 0.5401 - accuracy: 0.8093 - val_loss: 0.4113 - val_accuracy: 0.8613\n",
            "Epoch 3/15\n",
            "240/240 [==============================] - 20s 83ms/step - loss: 0.3551 - accuracy: 0.8814 - val_loss: 0.3873 - val_accuracy: 0.8633\n",
            "Epoch 4/15\n",
            "240/240 [==============================] - 21s 87ms/step - loss: 0.3051 - accuracy: 0.8979 - val_loss: 0.2760 - val_accuracy: 0.9081\n",
            "Epoch 5/15\n",
            "240/240 [==============================] - 21s 88ms/step - loss: 0.2564 - accuracy: 0.9129 - val_loss: 0.2508 - val_accuracy: 0.9154\n",
            "Epoch 6/15\n",
            "240/240 [==============================] - 21s 88ms/step - loss: 0.2275 - accuracy: 0.9235 - val_loss: 0.2530 - val_accuracy: 0.9162\n",
            "Epoch 7/15\n",
            "240/240 [==============================] - 21s 88ms/step - loss: 0.1917 - accuracy: 0.9341 - val_loss: 0.2449 - val_accuracy: 0.9171\n",
            "Epoch 8/15\n",
            "240/240 [==============================] - 20s 82ms/step - loss: 0.1795 - accuracy: 0.9385 - val_loss: 0.2461 - val_accuracy: 0.9224\n",
            "Epoch 9/15\n",
            "240/240 [==============================] - 21s 88ms/step - loss: 0.1777 - accuracy: 0.9399 - val_loss: 0.2431 - val_accuracy: 0.9242\n",
            "Epoch 10/15\n",
            "240/240 [==============================] - 21s 87ms/step - loss: 0.1516 - accuracy: 0.9491 - val_loss: 0.2387 - val_accuracy: 0.9277\n",
            "Epoch 11/15\n",
            "240/240 [==============================] - 21s 87ms/step - loss: 0.1353 - accuracy: 0.9544 - val_loss: 0.2307 - val_accuracy: 0.9269\n",
            "Epoch 12/15\n",
            "240/240 [==============================] - 20s 82ms/step - loss: 0.1285 - accuracy: 0.9560 - val_loss: 0.2364 - val_accuracy: 0.9242\n",
            "Epoch 13/15\n",
            "240/240 [==============================] - 20s 82ms/step - loss: 0.1162 - accuracy: 0.9612 - val_loss: 0.2742 - val_accuracy: 0.9177\n",
            "Epoch 14/15\n",
            "240/240 [==============================] - 21s 87ms/step - loss: 0.1055 - accuracy: 0.9653 - val_loss: 0.2462 - val_accuracy: 0.9285\n",
            "Epoch 15/15\n",
            "240/240 [==============================] - 21s 87ms/step - loss: 0.0985 - accuracy: 0.9676 - val_loss: 0.2796 - val_accuracy: 0.9233\n",
            "313/313 [==============================] - 3s 8ms/step - loss: 0.3025 - accuracy: 0.9204\n",
            "Test Accuracy: 92.04%\n"
          ]
        }
      ]
    },
    {
      "cell_type": "code",
      "source": [
        "# Display the model summary table to see all layers and their parameters\n",
        "model.summary()"
      ],
      "metadata": {
        "colab": {
          "base_uri": "https://localhost:8080/"
        },
        "id": "_bDTrNWK2R_t",
        "outputId": "04099fe0-b06c-4ec0-ad53-d031a917b86e"
      },
      "execution_count": 121,
      "outputs": [
        {
          "output_type": "stream",
          "name": "stdout",
          "text": [
            "Model: \"model_10\"\n",
            "_________________________________________________________________\n",
            " Layer (type)                Output Shape              Param #   \n",
            "=================================================================\n",
            " input_12 (InputLayer)       [(None, 32, 32, 3)]       0         \n",
            "                                                                 \n",
            " block1_conv1 (Conv2D)       (None, 32, 32, 64)        1792      \n",
            "                                                                 \n",
            " block1_conv2 (Conv2D)       (None, 32, 32, 64)        36928     \n",
            "                                                                 \n",
            " block1_pool (MaxPooling2D)  (None, 16, 16, 64)        0         \n",
            "                                                                 \n",
            " block2_conv1 (Conv2D)       (None, 16, 16, 128)       73856     \n",
            "                                                                 \n",
            " block2_conv2 (Conv2D)       (None, 16, 16, 128)       147584    \n",
            "                                                                 \n",
            " block2_pool (MaxPooling2D)  (None, 8, 8, 128)         0         \n",
            "                                                                 \n",
            " block3_conv1 (Conv2D)       (None, 8, 8, 256)         295168    \n",
            "                                                                 \n",
            " block3_conv2 (Conv2D)       (None, 8, 8, 256)         590080    \n",
            "                                                                 \n",
            " block3_conv3 (Conv2D)       (None, 8, 8, 256)         590080    \n",
            "                                                                 \n",
            " block3_pool (MaxPooling2D)  (None, 4, 4, 256)         0         \n",
            "                                                                 \n",
            " block4_conv1 (Conv2D)       (None, 4, 4, 512)         1180160   \n",
            "                                                                 \n",
            " block4_conv2 (Conv2D)       (None, 4, 4, 512)         2359808   \n",
            "                                                                 \n",
            " block4_conv3 (Conv2D)       (None, 4, 4, 512)         2359808   \n",
            "                                                                 \n",
            " block4_pool (MaxPooling2D)  (None, 2, 2, 512)         0         \n",
            "                                                                 \n",
            " block5_conv1 (Conv2D)       (None, 2, 2, 512)         2359808   \n",
            "                                                                 \n",
            " block5_conv2 (Conv2D)       (None, 2, 2, 512)         2359808   \n",
            "                                                                 \n",
            " block5_conv3 (Conv2D)       (None, 2, 2, 512)         2359808   \n",
            "                                                                 \n",
            " block5_pool (MaxPooling2D)  (None, 1, 1, 512)         0         \n",
            "                                                                 \n",
            " global_average_pooling2d_1  (None, 512)               0         \n",
            " 1 (GlobalAveragePooling2D)                                      \n",
            "                                                                 \n",
            " flatten_11 (Flatten)        (None, 512)               0         \n",
            "                                                                 \n",
            " dense_22 (Dense)            (None, 256)               131328    \n",
            "                                                                 \n",
            " dropout_4 (Dropout)         (None, 256)               0         \n",
            "                                                                 \n",
            " dense_23 (Dense)            (None, 10)                2570      \n",
            "                                                                 \n",
            "=================================================================\n",
            "Total params: 14848586 (56.64 MB)\n",
            "Trainable params: 14848586 (56.64 MB)\n",
            "Non-trainable params: 0 (0.00 Byte)\n",
            "_________________________________________________________________\n"
          ]
        }
      ]
    },
    {
      "cell_type": "code",
      "source": [
        "import matplotlib.pyplot as plt"
      ],
      "metadata": {
        "id": "cNWPx8pgG3Np"
      },
      "execution_count": 123,
      "outputs": []
    },
    {
      "cell_type": "code",
      "source": [
        "predictions = model.predict(resized_x_test)\n",
        "\n",
        "def plot_image(i, predictions_array, true_label, img):\n",
        "    plt.grid(False)\n",
        "    plt.xticks([])\n",
        "    plt.yticks([])\n",
        "    plt.imshow(img, cmap=plt.cm.binary)\n",
        "\n",
        "    predicted_label = np.argmax(predictions_array)\n",
        "    true_label = np.argmax(true_label)\n",
        "    if predicted_label == true_label:\n",
        "        color = 'blue'\n",
        "    else:\n",
        "        color = 'red'\n",
        "\n",
        "    plt.xlabel(\"{} {:2.0f}% ({})\".format(class_names[predicted_label],\n",
        "                                         100*np.max(predictions_array),\n",
        "                                         class_names[true_label]),\n",
        "                                         color=color)\n",
        "num_images = 8\n",
        "num_rows = 2\n",
        "num_cols = 4\n",
        "plt.figure(figsize=(2*num_images, 3))\n",
        "for i in range(num_images):\n",
        "    plt.subplot(num_rows, num_cols, i+1)\n",
        "    plot_image(i, predictions[i], y_test[i], resized_x_test[i])\n"
      ],
      "metadata": {
        "colab": {
          "base_uri": "https://localhost:8080/",
          "height": 305
        },
        "id": "tuAgaovtGt8r",
        "outputId": "d750a794-fbf6-4f38-b819-77e3a727ab34"
      },
      "execution_count": 166,
      "outputs": [
        {
          "output_type": "stream",
          "name": "stdout",
          "text": [
            "313/313 [==============================] - 2s 8ms/step\n"
          ]
        },
        {
          "output_type": "display_data",
          "data": {
            "text/plain": [
              "<Figure size 1600x300 with 8 Axes>"
            ],
            "image/png": "[encoded data removed]"
          },
          "metadata": {}
        }
      ]
    },
    {
      "cell_type": "markdown",
      "source": [
        "__Висновки__\n",
        "\n",
        "VGG16 модель показала не погані результати 92.04% accuracy, трішки гірше за модель з першої частини яка показала результати 92.07%."
      ],
      "metadata": {
        "id": "uSwL5SoeLTHN"
      }
    }
  ]
}